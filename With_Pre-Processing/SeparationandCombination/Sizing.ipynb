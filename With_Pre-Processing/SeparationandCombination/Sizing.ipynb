{
 "cells": [
  {
   "cell_type": "markdown",
   "id": "c741b420-b90d-4a0a-a10f-1e50eb99beca",
   "metadata": {},
   "source": [
    "Image Size Investigation: One with largest width and one with largest height"
   ]
  },
  {
   "cell_type": "code",
   "execution_count": 1,
   "id": "179b4dee-a605-446f-b39a-97473e6f253f",
   "metadata": {},
   "outputs": [
    {
     "name": "stdout",
     "output_type": "stream",
     "text": [
      "The image with the largest width is C:\\Users\\Alexandra\\Documents\\SPRING_2024\\BMEN_689\\Project_2\\Jupyter_Notebook\\With_Pre_Processing\\New_EM_Images\\Sipho_Combined\\27NewCombined.png with a width of 2475 pixels\n",
      "The image with the largest height is C:\\Users\\Alexandra\\Documents\\SPRING_2024\\BMEN_689\\Project_2\\Jupyter_Notebook\\With_Pre_Processing\\New_EM_Images\\Myo_Combined\\32NewCombined.png with a height of 2155 pixels\n"
     ]
    }
   ],
   "source": [
    "import os\n",
    "from PIL import Image\n",
    "\n",
    "def find_images_with_max_dimensions(root_dir):\n",
    "    max_width = 0\n",
    "    max_height = 0\n",
    "    file_with_max_width = \"\"\n",
    "    file_with_max_height = \"\"\n",
    "    \n",
    "    for subdir, dirs, files in os.walk(root_dir):\n",
    "        for file in files:\n",
    "            try:\n",
    "                # Check if the file is an image (you can add more file extensions if needed)\n",
    "                if file.lower().endswith(('.png')):\n",
    "                    file_path = os.path.join(subdir, file)\n",
    "                    with Image.open(file_path) as img:\n",
    "                        width, height = img.size\n",
    "                        \n",
    "                        # Update if a larger width is found\n",
    "                        if width > max_width:\n",
    "                            max_width = width\n",
    "                            file_with_max_width = file_path\n",
    "                        \n",
    "                        # Update if a larger height is found\n",
    "                        if height > max_height:\n",
    "                            max_height = height\n",
    "                            file_with_max_height = file_path\n",
    "            except Exception as e:\n",
    "                print(f\"Error processing file {file}: {e}\")\n",
    "    \n",
    "    return file_with_max_width, max_width, file_with_max_height, max_height\n",
    "\n",
    "# Replace 'your_dataset_directory' with the path to your dataset directory\n",
    "root_directory = 'C:\\\\Users\\\\Alexandra\\\\Documents\\\\SPRING_2024\\\\BMEN_689\\\\Project_2\\\\Jupyter_Notebook\\\\With_Pre_Processing\\\\New_EM_Images\\\\'\n",
    "file_with_max_width, max_width, file_with_max_height, max_height = find_images_with_max_dimensions(root_directory)\n",
    "\n",
    "print(f\"The image with the largest width is {file_with_max_width} with a width of {max_width} pixels\")\n",
    "print(f\"The image with the largest height is {file_with_max_height} with a height of {max_height} pixels\")\n"
   ]
  },
  {
   "cell_type": "markdown",
   "id": "7aff9e2a-0937-4ae3-a664-2440000d2b88",
   "metadata": {},
   "source": [
    "Smallest Width and Smallest Height:"
   ]
  },
  {
   "cell_type": "code",
   "execution_count": 2,
   "id": "0d29c80d-7f28-4ed6-8f80-ee4672d555c5",
   "metadata": {},
   "outputs": [
    {
     "name": "stdout",
     "output_type": "stream",
     "text": [
      "The image with the smallest width is C:\\Users\\Alexandra\\Documents\\SPRING_2024\\BMEN_689\\Project_2\\Jupyter_Notebook\\With_Pre_Processing\\New_EM_Images\\Podo_Combined\\22NewCombined.png with a width of 54 pixels\n",
      "The image with the smallest height is C:\\Users\\Alexandra\\Documents\\SPRING_2024\\BMEN_689\\Project_2\\Jupyter_Notebook\\With_Pre_Processing\\New_EM_Images\\Myo_Combined\\87NewCombined.png with a height of 54 pixels\n"
     ]
    }
   ],
   "source": [
    "import os\n",
    "from PIL import Image\n",
    "\n",
    "def find_images_with_min_dimensions(root_dir):\n",
    "    min_width = float('inf')\n",
    "    min_height = float('inf')\n",
    "    file_with_min_width = \"\"\n",
    "    file_with_min_height = \"\"\n",
    "    \n",
    "    for subdir, dirs, files in os.walk(root_dir):\n",
    "        for file in files:\n",
    "            try:\n",
    "                # Check if the file is an image (you can add more file extensions if needed)\n",
    "                if file.lower().endswith(('.png')):\n",
    "                    file_path = os.path.join(subdir, file)\n",
    "                    with Image.open(file_path) as img:\n",
    "                        width, height = img.size\n",
    "                        \n",
    "                        # Update if a smaller width is found\n",
    "                        if width < min_width:\n",
    "                            min_width = width\n",
    "                            file_with_min_width = file_path\n",
    "                        \n",
    "                        # Update if a smaller height is found\n",
    "                        if height < min_height:\n",
    "                            min_height = height\n",
    "                            file_with_min_height = file_path\n",
    "            except Exception as e:\n",
    "                print(f\"Error processing file {file}: {e}\")\n",
    "    \n",
    "    return file_with_min_width, min_width, file_with_min_height, min_height\n",
    "\n",
    "# Replace 'your_dataset_directory' with the path to your dataset directory\n",
    "root_directory = 'C:\\\\Users\\\\Alexandra\\\\Documents\\\\SPRING_2024\\\\BMEN_689\\\\Project_2\\\\Jupyter_Notebook\\\\With_Pre_Processing\\\\New_EM_Images\\\\'\n",
    "file_with_min_width, min_width, file_with_min_height, min_height = find_images_with_min_dimensions(root_directory)\n",
    "\n",
    "print(f\"The image with the smallest width is {file_with_min_width} with a width of {min_width} pixels\")\n",
    "print(f\"The image with the smallest height is {file_with_min_height} with a height of {min_height} pixels\")\n"
   ]
  },
  {
   "cell_type": "code",
   "execution_count": 3,
   "id": "7e1598c6-5b55-45f9-ad90-6d2ca15cb0db",
   "metadata": {},
   "outputs": [],
   "source": [
    "import os\n",
    "from PIL import Image\n",
    "\n",
    "# Define soft lilac color\n",
    "soft_lilac_color = (230, 215, 255)\n",
    "\n",
    "def resize_images_in_folder(input_folder, output_folder):\n",
    "    # Iterate through each subfolder in the input folder\n",
    "    for root, dirs, files in os.walk(input_folder):\n",
    "        for dir_name in dirs:\n",
    "            # Create corresponding subfolder in the output folder\n",
    "            output_subfolder = os.path.join(output_folder, root[len(input_folder):], dir_name)\n",
    "            os.makedirs(output_subfolder, exist_ok=True)\n",
    "            \n",
    "            # Process each image file in the current subfolder\n",
    "            for file_name in os.listdir(os.path.join(root, dir_name)):\n",
    "                if file_name.endswith(('.png')):\n",
    "                    input_path = os.path.join(root, dir_name, file_name)\n",
    "                    output_path = os.path.join(output_subfolder, file_name)\n",
    "                    resize_image(input_path, output_path)\n",
    "\n",
    "def resize_image(input_path, output_path):\n",
    "    # Open the image\n",
    "    img = Image.open(input_path)\n",
    "    \n",
    "    # Get original width and height\n",
    "    original_width, original_height = img.size\n",
    "    \n",
    "    # Check if resizing is needed\n",
    "    if original_width > 512 or original_height > 512:\n",
    "        # If either width or height is greater than 512, resize while maintaining aspect ratio\n",
    "        img.thumbnail((512, 512))\n",
    "    else:\n",
    "        # Calculate padding sizes\n",
    "        padding_width = 512 - original_width\n",
    "        padding_height = 512 - original_height\n",
    "        \n",
    "        # Create a new blank image with soft lilac background\n",
    "        new_img = Image.new(\"RGB\", (512, 512), soft_lilac_color)\n",
    "        \n",
    "        # Calculate position to paste the original image\n",
    "        paste_position = ((padding_width // 2), (padding_height // 2))\n",
    "        \n",
    "        # Paste the original image onto the new blank image\n",
    "        new_img.paste(img, paste_position)\n",
    "        \n",
    "        # Assign the new image to the original variable\n",
    "        img = new_img\n",
    "    \n",
    "    # Save the resized image\n",
    "    img.save(output_path)\n",
    "\n",
    "# Example usage\n",
    "input_folder = \"C:\\\\Users\\\\Alexandra\\\\Documents\\\\SPRING_2024\\\\BMEN_689\\\\Project_2\\\\Jupyter_Notebook\\\\With_Pre_Processing\\\\New_EM_Images\\\\\"\n",
    "output_folder = \"C:\\\\Users\\\\Alexandra\\\\Documents\\\\SPRING_2024\\\\BMEN_689\\\\Project_2\\\\Jupyter_Notebook\\\\With_Pre_Processing\\\\New512by512\\\\\"\n",
    "resize_images_in_folder(input_folder, output_folder)\n"
   ]
  },
  {
   "cell_type": "code",
   "execution_count": null,
   "id": "dd02542d-e9fa-4738-abb5-1127e324993a",
   "metadata": {},
   "outputs": [],
   "source": []
  }
 ],
 "metadata": {
  "kernelspec": {
   "display_name": "Python 3 (ipykernel)",
   "language": "python",
   "name": "python3"
  },
  "language_info": {
   "codemirror_mode": {
    "name": "ipython",
    "version": 3
   },
   "file_extension": ".py",
   "mimetype": "text/x-python",
   "name": "python",
   "nbconvert_exporter": "python",
   "pygments_lexer": "ipython3",
   "version": "3.11.7"
  }
 },
 "nbformat": 4,
 "nbformat_minor": 5
}
